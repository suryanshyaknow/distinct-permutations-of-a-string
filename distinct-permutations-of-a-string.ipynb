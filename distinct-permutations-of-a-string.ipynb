{
 "cells": [
  {
   "cell_type": "code",
   "execution_count": 7,
   "id": "1d064bd9",
   "metadata": {},
   "outputs": [
    {
     "name": "stdout",
     "output_type": "stream",
     "text": [
      "Enter the string of which you want the distinct permutations of arrangements of its characters: Suryansh Grover\n"
     ]
    }
   ],
   "source": [
    "'''\n",
    "We have to know the formula to calculate the distinct permutations viz. n!/ r1! r2! r3!....rn!\n",
    "\n",
    "n is the length of the given string.\n",
    "\n",
    "r1, r2, r3,.....rn will be the repeated appearances of the characters that have occured more than once.\n",
    "\n",
    "st is the variable name used for the given string.\n",
    "'''\n",
    "\n",
    "st = input(\"Enter the string of which you want the distinct permutations of arrangements of its characters: \")"
   ]
  },
  {
   "cell_type": "code",
   "execution_count": 8,
   "id": "55c2a230",
   "metadata": {},
   "outputs": [],
   "source": [
    "def fact(n):\n",
    "    \"\"\"\n",
    "    Returns the factorial of the argument passed.\n",
    "    \"\"\"\n",
    "    fact = 1\n",
    "    for i in range(2, n+1):\n",
    "        fact = fact*i\n",
    "    return fact"
   ]
  },
  {
   "cell_type": "code",
   "execution_count": 9,
   "id": "d4e4c542",
   "metadata": {},
   "outputs": [],
   "source": [
    "def count(y, st, listy):\n",
    "           \n",
    "    \"\"\"\n",
    "    Counts the appearances of an individual single character.\n",
    "    \"\"\"\n",
    "    x = len(st)\n",
    "    ind = st[y] #ind is the individual character of which we have to count the appearances.\n",
    "    county = 0 #the no. of times the individual character has appeared in the string.\n",
    "  \n",
    "    if ind not in listy: #means that whether the current character's appearances haven't been already counted!!!\n",
    "        for i in range(y, x):\n",
    "            if st[i] == ind:\n",
    "                county += 1\n",
    "            if ind not in listy: #to append the character into the list fot the first time to keep the track of already counted appearances of that very character.\n",
    "                listy.append(ind)\n",
    "  \n",
    "    if county == 0: #If the character have appeared only once.\n",
    "        return 1\n",
    "    else: \n",
    "        return county"
   ]
  },
  {
   "cell_type": "code",
   "execution_count": 10,
   "id": "40ad3ed9",
   "metadata": {},
   "outputs": [],
   "source": [
    "def GetArrangements(st):\n",
    "    \n",
    "    \"\"\"\n",
    "    Give all the possible distinct permutations.\n",
    "    \"\"\"\n",
    "    x = len(st)\n",
    "  \n",
    "    listy = [] #A list to track all the individual characters.\n",
    "\n",
    "    '''\n",
    "    Readying the factorial product of the denominator to rule out the same combinations to make sure that \n",
    "    every arrangement is distinct.\n",
    "    '''\n",
    "    deno = 1\n",
    "    for i in range(x):\n",
    "        deno = fact(count(i, st, listy)) * deno\n",
    "  \n",
    "    print(\"The no. of distinct permutations of the inputted string is: \")\n",
    "    return fact(x)/deno"
   ]
  },
  {
   "cell_type": "code",
   "execution_count": 11,
   "id": "befd9992",
   "metadata": {},
   "outputs": [
    {
     "name": "stdout",
     "output_type": "stream",
     "text": [
      "The no. of distinct permutations of the inputted string is: \n"
     ]
    },
    {
     "data": {
      "text/plain": [
       "217945728000.0"
      ]
     },
     "execution_count": 11,
     "metadata": {},
     "output_type": "execute_result"
    }
   ],
   "source": [
    " GetArrangements(st)"
   ]
  },
  {
   "cell_type": "code",
   "execution_count": null,
   "id": "26af38b0",
   "metadata": {},
   "outputs": [],
   "source": []
  }
 ],
 "metadata": {
  "kernelspec": {
   "display_name": "Python 3 (ipykernel)",
   "language": "python",
   "name": "python3"
  },
  "language_info": {
   "codemirror_mode": {
    "name": "ipython",
    "version": 3
   },
   "file_extension": ".py",
   "mimetype": "text/x-python",
   "name": "python",
   "nbconvert_exporter": "python",
   "pygments_lexer": "ipython3",
   "version": "3.9.7"
  }
 },
 "nbformat": 4,
 "nbformat_minor": 5
}
